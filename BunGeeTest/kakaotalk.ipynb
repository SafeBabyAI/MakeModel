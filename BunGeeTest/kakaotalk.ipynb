{
 "cells": [
  {
   "cell_type": "markdown",
   "metadata": {},
   "source": [
    "1.APi OAuth 인증 URL 생성"
   ]
  },
  {
   "cell_type": "code",
   "execution_count": null,
   "metadata": {},
   "outputs": [],
   "source": [
    "# 접속\n",
    "\n",
    "https://kauth.kakao.com/oauth/authorize?client_id=YOUR_REST_API_KEY&redirect_uri=YOUR_REDIRECT_URI&response_type=code\n",
    "\n",
    "# step1️⃣ 위 URL을 브라우저에 입력하고 엔터\n",
    "# step2️⃣ 로그인 후, redirect_uri로 이동되면서 쿼리 파라미터로 인증 코드가 나옴\n",
    "\n",
    "# 예: https://yourredirect.com/?code=xxxxxxxxxxxxxxxxxxxxxxxxxxxxxx\n",
    "# step3️⃣ code=xxxxxx 부분의 값을 복사"
   ]
  },
  {
   "cell_type": "markdown",
   "metadata": {},
   "source": [
    "2. 액세스 토큰 받기"
   ]
  },
  {
   "cell_type": "code",
   "execution_count": null,
   "metadata": {},
   "outputs": [],
   "source": [
    "import requests\n",
    "\n",
    "# 카카오 API 키 & 인증 코드 입력\n",
    "REST_API_KEY = \"YOUR_REST_API_KEY\"\n",
    "REDIRECT_URI = \"YOUR_REDIRECT_URI\"\n",
    "AUTH_CODE = \"YOUR_AUTH_CODE\"  # Step 3에서 받은 코드\n",
    "\n",
    "# 액세스 토큰 요청\n",
    "url = \"https://kauth.kakao.com/oauth/token\"\n",
    "data = {\n",
    "    \"grant_type\": \"authorization_code\",\n",
    "    \"client_id\": REST_API_KEY,\n",
    "    \"redirect_uri\": REDIRECT_URI,\n",
    "    \"code\": AUTH_CODE,\n",
    "}\n",
    "\n",
    "response = requests.post(url, data=data)\n",
    "tokens = response.json()\n",
    "print(tokens)"
   ]
  },
  {
   "cell_type": "markdown",
   "metadata": {},
   "source": [
    "3.카카오톡 메시지 보내기"
   ]
  },
  {
   "cell_type": "code",
   "execution_count": 1,
   "metadata": {},
   "outputs": [
    {
     "name": "stdout",
     "output_type": "stream",
     "text": [
      "❌ 전송 실패: {\"msg\":\"this access token does not exist\",\"code\":-401}\n"
     ]
    }
   ],
   "source": [
    "import requests\n",
    "\n",
    "ACCESS_TOKEN = \"tokens\"\n",
    "\n",
    "headers = {\n",
    "    \"Authorization\": f\"Bearer {ACCESS_TOKEN}\"\n",
    "}\n",
    "\n",
    "data = {\n",
    "    \"template_object\": '{\"object_type\":\"text\",\"text\":\"Hello from Python!\",\"link\":{\"web_url\":\"https://yourwebsite.com\"}}'\n",
    "}\n",
    "\n",
    "response = requests.post(\"https://kapi.kakao.com/v2/api/talk/memo/default/send\", headers=headers, data=data)\n",
    "\n",
    "if response.status_code == 200:\n",
    "    print(\"✅ 카카오톡 메시지 전송 성공!\")\n",
    "else:\n",
    "    print(\"❌ 전송 실패:\", response.text)"
   ]
  },
  {
   "cell_type": "markdown",
   "metadata": {},
   "source": [
    "3-1 위 코드가 안되는경우"
   ]
  },
  {
   "cell_type": "code",
   "execution_count": null,
   "metadata": {},
   "outputs": [],
   "source": [
    "import requests\n",
    "\n",
    "# Step 4에서 받은 액세스 토큰 입력\n",
    "ACCESS_TOKEN = \"tokens\"\n",
    "\n",
    "# 요청 헤더 설정\n",
    "headers = {\n",
    "    \"Authorization\": f\"Bearer {ACCESS_TOKEN}\",\n",
    "    \"Content-Type\": \"application/x-www-form-urlencoded\"\n",
    "}\n",
    "\n",
    "# 메시지 데이터\n",
    "data = {\n",
    "    \"template_object\": '{\"object_type\":\"text\",\"text\":\"Hello! This is a test message from Python 🚀\",\"link\":{\"web_url\":\"https://yourwebsite.com\"}}'\n",
    "}\n",
    "\n",
    "# API 요청 (카카오톡 메시지 전송)\n",
    "url = \"https://kapi.kakao.com/v2/api/talk/memo/default/send\"\n",
    "response = requests.post(url, headers=headers, data=data)\n",
    "\n",
    "# 응답 확인\n",
    "print(response.json())"
   ]
  }
 ],
 "metadata": {
  "kernelspec": {
   "display_name": "Python 3",
   "language": "python",
   "name": "python3"
  },
  "language_info": {
   "codemirror_mode": {
    "name": "ipython",
    "version": 3
   },
   "file_extension": ".py",
   "mimetype": "text/x-python",
   "name": "python",
   "nbconvert_exporter": "python",
   "pygments_lexer": "ipython3",
   "version": "3.9.13"
  }
 },
 "nbformat": 4,
 "nbformat_minor": 2
}
