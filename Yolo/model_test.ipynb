{
 "cells": [
  {
   "cell_type": "markdown",
   "metadata": {},
   "source": [
    "# 임포트\n"
   ]
  },
  {
   "cell_type": "code",
   "execution_count": 1,
   "metadata": {},
   "outputs": [],
   "source": [
    "import os\n",
    "import cv2\n",
    "import torch\n",
    "import torch.nn as nn\n",
    "import torch.optim as optim\n",
    "import numpy as np\n",
    "from torch.utils.data import Dataset, DataLoader"
   ]
  },
  {
   "cell_type": "markdown",
   "metadata": {},
   "source": [
    "# 데이터 로드"
   ]
  },
  {
   "cell_type": "code",
   "execution_count": 2,
   "metadata": {},
   "outputs": [],
   "source": [
    "class CustomFaceDataset(Dataset):\n",
    "    def __init__(self, image_dir, label_dir, transform=None):\n",
    "        self.image_dir = image_dir\n",
    "        self.label_dir = label_dir\n",
    "        self.image_files = sorted([f for f in os.listdir(image_dir) if f.lower().endswith(('.jpg', '.png'))])\n",
    "        self.transform = transform\n",
    "    def __len__(self):\n",
    "        return len(self.image_files)\n",
    "\n",
    "    def __getitem__(self, idx):\n",
    "        image_file = self.image_files[idx]\n",
    "        image_path = os.path.join(self.image_dir, image_file)\n",
    "        # 이미지 읽기 및 RGB 변환\n",
    "        image = cv2.imread(image_path)\n",
    "        if image is None:\n",
    "            raise FileNotFoundError(f\"이미지를 찾을 수 없습니다: {image_path}\")\n",
    "        image = cv2.cvtColor(image, cv2.COLOR_BGR2RGB)\n",
    "        # 0~1 범위의 실수형 텐서 변환\n",
    "        image = image.astype(np.float32) / 255.0\n",
    "\n",
    "        # 어노테이션 파일 경로 (이미지와 같은 이름의 .txt 파일)\n",
    "        label_file = os.path.splitext(image_file)[0] + '.txt'\n",
    "        label_path = os.path.join(self.label_dir, label_file)\n",
    "        boxes = []\n",
    "        if os.path.exists(label_path):\n",
    "            with open(label_path, 'r') as f:\n",
    "                for line in f:\n",
    "                    # 각 라인은 \"class_id center_x center_y width height\"\n",
    "                    parts = line.strip().split()\n",
    "                    if len(parts) == 5:\n",
    "                        cls, cx, cy, bw, bh = map(float, parts)\n",
    "                        boxes.append([int(cls), cx, cy, bw, bh])\n",
    "        else:\n",
    "            # 어노테이션이 없는 경우 빈 배열 반환\n",
    "            boxes = []\n",
    "        \n",
    "        # 이미지 shape: [H, W, C] -> tensor: [C, H, W]\n",
    "        image_tensor = torch.tensor(image.transpose(2, 0, 1), dtype=torch.float32)\n",
    "        sample = {'image': image_tensor, 'boxes': torch.tensor(boxes, dtype=torch.float32)}\n",
    "        return sample\n"
   ]
  }
 ],
 "metadata": {
  "kernelspec": {
   "display_name": "Python 3",
   "language": "python",
   "name": "python3"
  },
  "language_info": {
   "codemirror_mode": {
    "name": "ipython",
    "version": 3
   },
   "file_extension": ".py",
   "mimetype": "text/x-python",
   "name": "python",
   "nbconvert_exporter": "python",
   "pygments_lexer": "ipython3",
   "version": "3.9.13"
  }
 },
 "nbformat": 4,
 "nbformat_minor": 2
}
