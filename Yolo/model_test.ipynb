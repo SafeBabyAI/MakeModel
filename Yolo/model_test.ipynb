{
 "cells": [
  {
   "cell_type": "code",
   "execution_count": 3,
   "metadata": {},
   "outputs": [
    {
     "name": "stdout",
     "output_type": "stream",
     "text": [
      "Creating new Ultralytics Settings v0.0.6 file  \n",
      "View Ultralytics Settings with 'yolo settings' or at 'C:\\Users\\user\\AppData\\Roaming\\Ultralytics\\settings.json'\n",
      "Update Settings with 'yolo settings key=value', i.e. 'yolo settings runs_dir=path/to/dir'. For help see https://docs.ultralytics.com/quickstart/#ultralytics-settings.\n"
     ]
    }
   ],
   "source": [
    "# 임포트\n",
    "import cv2\n",
    "import numpy as np\n",
    "from ultralytics import YOLO"
   ]
  },
  {
   "cell_type": "markdown",
   "metadata": {},
   "source": [
    "# 매핑"
   ]
  },
  {
   "cell_type": "code",
   "execution_count": 1,
   "metadata": {},
   "outputs": [],
   "source": [
    "# 클래스 ID와 이름 매핑 (Roboflow에서 라벨링한 순서에 맞게 설정)\n",
    "# 여기서는 \"baby_sleeping\"과 \"obstruction\" 두 클래스로 합쳐서 사용합니다.\n",
    "CLASS_NAMES = {\n",
    "    0: \"baby_sleeping\",   # 아기가 누워 자고 있는 경우\n",
    "    1: \"obstruction\"      # 침구류와 장난감을 합친 클래스\n",
    "}"
   ]
  },
  {
   "cell_type": "markdown",
   "metadata": {},
   "source": [
    "# 기능"
   ]
  },
  {
   "cell_type": "markdown",
   "metadata": {},
   "source": [
    "라벨링된 박스를 서로 계산"
   ]
  },
  {
   "cell_type": "code",
   "execution_count": 2,
   "metadata": {},
   "outputs": [],
   "source": [
    "def iou(boxA, boxB):\n",
    "    \"\"\"두 박스의 IoU(Intersection over Union) 계산 함수\"\"\"\n",
    "    ix1 = max(boxA[0], boxB[0])\n",
    "    iy1 = max(boxA[1], boxB[1])\n",
    "    ix2 = min(boxA[2], boxB[2])\n",
    "    iy2 = min(boxA[3], boxB[3])\n",
    "    inter_area = max(0, ix2 - ix1) * max(0, iy2 - iy1)\n",
    "    boxA_area = (boxA[2] - boxA[0]) * (boxA[3] - boxA[1])\n",
    "    boxB_area = (boxB[2] - boxB[0]) * (boxB[3] - boxB[1])\n",
    "    return inter_area / float(boxA_area + boxB_area - inter_area + 1e-6)"
   ]
  },
  {
   "cell_type": "markdown",
   "metadata": {},
   "source": [
    "호흡기관 상단 1/3 영역에 obstruction 박스가 일정 수준 이상 겹치는 경우"
   ]
  },
  {
   "cell_type": "code",
   "execution_count": 3,
   "metadata": {},
   "outputs": [],
   "source": [
    "def check_breathing_area(baby_box, obstruction_boxes, threshold=0.2):\n",
    "    \"\"\"\n",
    "    아기가 누워 있을 때, 호흡기관이 아기 박스의 상단 1/3 영역에 해당한다고 가정합니다.\n",
    "    이 영역과 obstruction(침구류 또는 장난감)이 일정 IoU 이상 겹치면 호흡 부위가 가려진 것으로 판단합니다.\n",
    "    \"\"\"\n",
    "    x1, y1, x2, y2 = baby_box\n",
    "    baby_height = y2 - y1\n",
    "    # 호흡 영역: 아기 박스의 상단 1/3\n",
    "    breathing_area = [x1, y1, x2, y1 + baby_height / 3]\n",
    "    \n",
    "    for ob in obstruction_boxes:\n",
    "        if iou(breathing_area, ob) > threshold:\n",
    "            return False  # 호흡 부위가 가려짐\n",
    "    return True"
   ]
  },
  {
   "cell_type": "markdown",
   "metadata": {},
   "source": [
    "YOLOv8 모델로 추론을 수행하고 가려졌는지 판단을 수행"
   ]
  },
  {
   "cell_type": "code",
   "execution_count": 4,
   "metadata": {},
   "outputs": [],
   "source": [
    "def process_image(image_path, model):\n",
    "    \"\"\"\n",
    "    주어진 이미지에 대해 YOLOv8 모델로 추론을 수행하고,\n",
    "    아기가 누워 자고 있는지와 obstruction(침구류/장난감)에 의해 호흡 부위가 가려졌는지 판단합니다.\n",
    "    \"\"\"\n",
    "    results = model(image_path, conf=0.25)\n",
    "    result = results[0]  # 첫 번째 결과 사용\n",
    "\n",
    "    # 탐지된 객체들을 분류별로 분리\n",
    "    baby_sleeping_boxes = []\n",
    "    obstruction_boxes = []  # 침구류 및 장난감이 합쳐진 obstruction 클래스\n",
    "\n",
    "    for box in result.boxes:\n",
    "        cls_id = int(box.cls.cpu().numpy())\n",
    "        box_coords = box.xyxy.cpu().numpy()[0]  # [x1, y1, x2, y2]\n",
    "        class_name = CLASS_NAMES.get(cls_id, \"unknown\")\n",
    "        if class_name == \"baby_sleeping\":\n",
    "            baby_sleeping_boxes.append(box_coords)\n",
    "        elif class_name == \"obstruction\":\n",
    "            obstruction_boxes.append(box_coords)\n",
    "\n",
    "    # 상태 결과 저장\n",
    "    status = {}\n",
    "    if baby_sleeping_boxes:\n",
    "        status['sleeping'] = True\n",
    "        unobstructed = True\n",
    "        for baby_box in baby_sleeping_boxes:\n",
    "            if not check_breathing_area(baby_box, obstruction_boxes):\n",
    "                unobstructed = False\n",
    "                break\n",
    "        status['breathing_unobstructed'] = unobstructed\n",
    "    else:\n",
    "        status['sleeping'] = False\n",
    "        status['breathing_unobstructed'] = None\n",
    "\n",
    "    # YOLOv8이 주석이 달린 이미지를 반환 (BGR 형식, 시각화 확인용)\n",
    "    annotated_img = result.plot()\n",
    "    return status, annotated_img"
   ]
  },
  {
   "cell_type": "markdown",
   "metadata": {},
   "source": [
    "YOLOv8 모델 로드 (Roboflow 데이터셋으로 학습한 모델 가중치 파일 경로로 수정)"
   ]
  },
  {
   "cell_type": "code",
   "execution_count": null,
   "metadata": {},
   "outputs": [],
   "source": [
    "    # 1. YOLOv8 모델 로드 (Roboflow 데이터셋으로 학습한 모델 가중치 파일 경로로 수정)\n",
    "    model_path = \"best.pt\"  # 예: runs/detect/train/weights/best.pt\n",
    "    model = YOLO(model_path)\n",
    "\n",
    "    # 2. 테스트 이미지 경로 (적절한 경로로 수정)\n",
    "    image_path = \"test_image.jpg\"\n",
    "\n",
    "    # 3. 추론 및 상태 판단 수행\n",
    "    status, annotated_img = process_image(image_path, model)"
   ]
  },
  {
   "cell_type": "markdown",
   "metadata": {},
   "source": [
    "결과출력"
   ]
  },
  {
   "cell_type": "code",
   "execution_count": 6,
   "metadata": {},
   "outputs": [
    {
     "name": "stdout",
     "output_type": "stream",
     "text": [
      "=== 탐지 결과 ===\n"
     ]
    },
    {
     "ename": "NameError",
     "evalue": "name 'status' is not defined",
     "output_type": "error",
     "traceback": [
      "\u001b[1;31m---------------------------------------------------------------------------\u001b[0m",
      "\u001b[1;31mNameError\u001b[0m                                 Traceback (most recent call last)",
      "Cell \u001b[1;32mIn[6], line 3\u001b[0m\n\u001b[0;32m      1\u001b[0m \u001b[38;5;66;03m# 4. 결과 출력\u001b[39;00m\n\u001b[0;32m      2\u001b[0m \u001b[38;5;28mprint\u001b[39m(\u001b[38;5;124m\"\u001b[39m\u001b[38;5;124m=== 탐지 결과 ===\u001b[39m\u001b[38;5;124m\"\u001b[39m)\n\u001b[1;32m----> 3\u001b[0m \u001b[38;5;28;01mif\u001b[39;00m \u001b[43mstatus\u001b[49m\u001b[38;5;241m.\u001b[39mget(\u001b[38;5;124m'\u001b[39m\u001b[38;5;124msleeping\u001b[39m\u001b[38;5;124m'\u001b[39m):\n\u001b[0;32m      4\u001b[0m     \u001b[38;5;28mprint\u001b[39m(\u001b[38;5;124m\"\u001b[39m\u001b[38;5;124m아기가 누워 자고 있습니다.\u001b[39m\u001b[38;5;124m\"\u001b[39m)\n\u001b[0;32m      5\u001b[0m     \u001b[38;5;28;01mif\u001b[39;00m status\u001b[38;5;241m.\u001b[39mget(\u001b[38;5;124m'\u001b[39m\u001b[38;5;124mbreathing_unobstructed\u001b[39m\u001b[38;5;124m'\u001b[39m):\n",
      "\u001b[1;31mNameError\u001b[0m: name 'status' is not defined"
     ]
    }
   ],
   "source": [
    "    # 4. 결과 출력\n",
    "    print(\"=== 탐지 결과 ===\")\n",
    "    if status.get('sleeping'):\n",
    "        print(\"아기가 누워 자고 있습니다.\")\n",
    "        if status.get('breathing_unobstructed'):\n",
    "            print(\"아기의 호흡기관이 침구류 및 장난감(Obstruction)으로부터 가려지지 않았습니다.\")\n",
    "        else:\n",
    "            print(\"경고: 아기의 호흡기관이 침구류 또는 장난감(Obstruction)에 의해 가려졌습니다!\")\n",
    "    else:\n",
    "        print(\"아기가 누워 있지 않습니다.\")"
   ]
  },
  {
   "cell_type": "markdown",
   "metadata": {},
   "source": [
    "이미지 저장"
   ]
  },
  {
   "cell_type": "code",
   "execution_count": null,
   "metadata": {},
   "outputs": [],
   "source": [
    "    # 5. 주석 달린 이미지 저장 (BGR 형식이므로 cv2.imwrite 사용)\n",
    "    output_path = \"annotated_output.jpg\"\n",
    "    cv2.imwrite(output_path, annotated_img)\n",
    "    print(f\"주석이 달린 이미지가 '{output_path}'에 저장되었습니다.\")\n",
    "if __name__ == \"__main__\":\n",
    "    main()"
   ]
  }
 ],
 "metadata": {
  "kernelspec": {
   "display_name": "Python 3",
   "language": "python",
   "name": "python3"
  },
  "language_info": {
   "codemirror_mode": {
    "name": "ipython",
    "version": 3
   },
   "file_extension": ".py",
   "mimetype": "text/x-python",
   "name": "python",
   "nbconvert_exporter": "python",
   "pygments_lexer": "ipython3",
   "version": "3.9.13"
  }
 },
 "nbformat": 4,
 "nbformat_minor": 2
}
